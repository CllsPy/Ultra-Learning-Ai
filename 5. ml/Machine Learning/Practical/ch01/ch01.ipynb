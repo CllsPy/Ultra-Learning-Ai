{
 "cells": [
  {
   "cell_type": "code",
   "execution_count": 2,
   "metadata": {},
   "outputs": [],
   "source": [
    "%%capture\n",
    "\n",
    "#HIDE  CELL\n",
    "%pip install Numpy Scipy Scikit-learn matplotlib pandas"
   ]
  },
  {
   "cell_type": "code",
   "execution_count": 3,
   "metadata": {},
   "outputs": [
    {
     "data": {
      "text/plain": [
       "'2.1.3'"
      ]
     },
     "execution_count": 3,
     "metadata": {},
     "output_type": "execute_result"
    }
   ],
   "source": [
    "import numpy\n",
    "numpy.__version__"
   ]
  },
  {
   "cell_type": "markdown",
   "metadata": {},
   "source": [
    "## 𝜎(z) where z -> Net Input "
   ]
  },
  {
   "cell_type": "code",
   "execution_count": 46,
   "metadata": {},
   "outputs": [
    {
     "data": {
      "text/plain": [
       "'1.106273283489128 -> 1'"
      ]
     },
     "execution_count": 46,
     "metadata": {},
     "output_type": "execute_result"
    }
   ],
   "source": [
    "## NET INPUT\n",
    "import numpy as np\n",
    "from numpy import random\n",
    "\n",
    "class Neuron(object):\n",
    "    def __init__(self, w, x, d = None):\n",
    "        self.w = w\n",
    "        self.x = x\n",
    "        self.d = d\n",
    "    \n",
    "    def net_input(self):\n",
    "        net = self.w @ self.x\n",
    "        return net\n",
    "\n",
    "    def decision_func(self):\n",
    "        if self.net_input() > 1:\n",
    "            return f'{self.net_input()} -> 1'\n",
    "        \n",
    "        else:\n",
    "            return f'{self.net_input()} -> 0'\n",
    "    \n",
    "x = random.randint(2, size=3)\n",
    "w = random.rand(3)\n",
    "\n",
    "neuron = Neuron(w, x)\n",
    "neuron.decision_func()"
   ]
  },
  {
   "cell_type": "code",
   "execution_count": null,
   "metadata": {},
   "outputs": [],
   "source": []
  }
 ],
 "metadata": {
  "kernelspec": {
   "display_name": "Python 3",
   "language": "python",
   "name": "python3"
  },
  "language_info": {
   "codemirror_mode": {
    "name": "ipython",
    "version": 3
   },
   "file_extension": ".py",
   "mimetype": "text/x-python",
   "name": "python",
   "nbconvert_exporter": "python",
   "pygments_lexer": "ipython3",
   "version": "3.12.7"
  }
 },
 "nbformat": 4,
 "nbformat_minor": 2
}
